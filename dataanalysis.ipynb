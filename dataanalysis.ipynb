{
 "cells": [
  {
   "cell_type": "code",
   "execution_count": 2,
   "metadata": {},
   "outputs": [
    {
     "name": "stderr",
     "output_type": "stream",
     "text": [
      "/var/folders/_h/vhfb2h1n6v35yb9bys91j37m0000gn/T/ipykernel_43474/1227858783.py:1: DeprecationWarning: \n",
      "Pyarrow will become a required dependency of pandas in the next major release of pandas (pandas 3.0),\n",
      "(to allow more performant data types, such as the Arrow string type, and better interoperability with other libraries)\n",
      "but was not found to be installed on your system.\n",
      "If this would cause problems for you,\n",
      "please provide us feedback at https://github.com/pandas-dev/pandas/issues/54466\n",
      "        \n",
      "  import pandas as pd\n"
     ]
    }
   ],
   "source": [
    "import pandas as pd\n",
    "import matplotlib.pyplot as plt\n",
    "import seaborn as sns\n",
    "\n",
    "pd.set_option(\"display.max_columns\", 200)"
   ]
  },
  {
   "cell_type": "code",
   "execution_count": null,
   "metadata": {},
   "outputs": [],
   "source": []
  },
  {
   "cell_type": "markdown",
   "metadata": {},
   "source": [
    "## Data Exploration"
   ]
  },
  {
   "cell_type": "code",
   "execution_count": 3,
   "metadata": {},
   "outputs": [
    {
     "data": {
      "text/plain": [
       "<bound method DataFrame.duplicated of                    Location            Fighter 1        Fighter 2  \\\n",
       "0        Austin, Texas, USA      Arman Tsarukyan   Beneil Dariush   \n",
       "1        Austin, Texas, USA         Jalin Turner      Bobby Green   \n",
       "2        Austin, Texas, USA  Deiveson Figueiredo         Rob Font   \n",
       "3        Austin, Texas, USA           Sean Brady  Kelvin Gastelum   \n",
       "4        Austin, Texas, USA        Joaquim Silva       Clay Guida   \n",
       "...                     ...                  ...              ...   \n",
       "7412  Denver, Colorado, USA         Orlando Wiet   Sean Daugherty   \n",
       "7413  Denver, Colorado, USA        Frank Hamaker              NaN   \n",
       "7414  Denver, Colorado, USA        Johnny Rhodes              NaN   \n",
       "7415  Denver, Colorado, USA        Patrick Smith              NaN   \n",
       "7416  Denver, Colorado, USA         Scott Morris              NaN   \n",
       "\n",
       "      Fighter_1_KD  Fighter_2_KD  Fighter_1_STR  Fighter_2_STR  Fighter_1_TD  \\\n",
       "0              1.0           0.0            8.0            2.0           0.0   \n",
       "1              1.0           0.0           33.0           15.0           0.0   \n",
       "2              0.0           0.0           45.0           46.0           4.0   \n",
       "3              0.0           0.0           14.0           18.0           5.0   \n",
       "4              0.0           0.0           46.0           43.0           2.0   \n",
       "...            ...           ...            ...            ...           ...   \n",
       "7412           0.0           0.0            1.0            0.0           1.0   \n",
       "7413           NaN           NaN            NaN            NaN           NaN   \n",
       "7414           NaN           NaN            NaN            NaN           NaN   \n",
       "7415           NaN           NaN            NaN            NaN           NaN   \n",
       "7416           NaN           NaN            NaN            NaN           NaN   \n",
       "\n",
       "      Fighter_2_TD  Fighter_1_SUB  Fighter_2_SUB  Weight_Class  \\\n",
       "0              0.0            0.0            0.0   Lightweight   \n",
       "1              0.0            0.0            0.0   Lightweight   \n",
       "2              0.0            0.0            0.0  Bantamweight   \n",
       "3              0.0            3.0            0.0  Welterweight   \n",
       "4              2.0            2.0            0.0   Lightweight   \n",
       "...            ...            ...            ...           ...   \n",
       "7412           0.0            1.0            0.0   Open Weight   \n",
       "7413           NaN            NaN            NaN           NaN   \n",
       "7414           NaN            NaN            NaN           NaN   \n",
       "7415           NaN            NaN            NaN           NaN   \n",
       "7416           NaN            NaN            NaN           NaN   \n",
       "\n",
       "                    Method  Round  Time       Event Name       Date  \\\n",
       "0             KO/TKO Punch    1.0  1:04  UFC Fight Night   2-Dec-23   \n",
       "1           KO/TKO Punches    1.0  2:49  UFC Fight Night   2-Dec-23   \n",
       "2                    U-DEC    3.0  5:00  UFC Fight Night   2-Dec-23   \n",
       "3               SUB Kimura    3.0  1:43  UFC Fight Night   2-Dec-23   \n",
       "4                    U-DEC    3.0  5:00  UFC Fight Night   2-Dec-23   \n",
       "...                    ...    ...   ...              ...        ...   \n",
       "7412  SUB Guillotine Choke    1.0  0:20            UFC 2  11-Mar-94   \n",
       "7413                   NaN    NaN   NaN              NaN        NaN   \n",
       "7414                   NaN    NaN   NaN              NaN        NaN   \n",
       "7415                   NaN    NaN   NaN              NaN        NaN   \n",
       "7416                   NaN    NaN   NaN              NaN        NaN   \n",
       "\n",
       "                   Winner  \n",
       "0         Arman Tsarukyan  \n",
       "1            Jalin Turner  \n",
       "2     Deiveson Figueiredo  \n",
       "3              Sean Brady  \n",
       "4           Joaquim Silva  \n",
       "...                   ...  \n",
       "7412        Patrick Smith  \n",
       "7413         Scott Morris  \n",
       "7414                  NaN  \n",
       "7415                  NaN  \n",
       "7416                  NaN  \n",
       "\n",
       "[7417 rows x 18 columns]>"
      ]
     },
     "execution_count": 3,
     "metadata": {},
     "output_type": "execute_result"
    }
   ],
   "source": [
    "# Load in the data\n",
    "df = pd.read_csv(\"data/ufc.csv\")\n",
    "\n",
    "# Our data shows that we have very little spaces that show null values in any of the columns\n",
    "df.isna().sum()\n",
    "\n",
    "#Check the columns in my dataset, all have relevance but we can cut down on some in the cleaning part\n",
    "df.columns\n",
    "\n",
    "#See if there are any duplicated fighters / fights in my dataset\n",
    "df.duplicated\n",
    "\n",
    "#Data looks good to go\n",
    "\n",
    "\n"
   ]
  },
  {
   "cell_type": "markdown",
   "metadata": {},
   "source": [
    "## Data Cleaning"
   ]
  },
  {
   "cell_type": "code",
   "execution_count": 4,
   "metadata": {},
   "outputs": [
    {
     "name": "stderr",
     "output_type": "stream",
     "text": [
      "/var/folders/_h/vhfb2h1n6v35yb9bys91j37m0000gn/T/ipykernel_43474/178202677.py:17: SettingWithCopyWarning: \n",
      "A value is trying to be set on a copy of a slice from a DataFrame.\n",
      "Try using .loc[row_indexer,col_indexer] = value instead\n",
      "\n",
      "See the caveats in the documentation: https://pandas.pydata.org/pandas-docs/stable/user_guide/indexing.html#returning-a-view-versus-a-copy\n",
      "  df[\"Fighter_1_KD\"] = df[\"Fighter_1_KD\"].fillna(0.0)\n",
      "/var/folders/_h/vhfb2h1n6v35yb9bys91j37m0000gn/T/ipykernel_43474/178202677.py:18: SettingWithCopyWarning: \n",
      "A value is trying to be set on a copy of a slice from a DataFrame.\n",
      "Try using .loc[row_indexer,col_indexer] = value instead\n",
      "\n",
      "See the caveats in the documentation: https://pandas.pydata.org/pandas-docs/stable/user_guide/indexing.html#returning-a-view-versus-a-copy\n",
      "  df[\"Fighter_2_KD\"] = df[\"Fighter_2_KD\"].fillna(0.0)\n",
      "/var/folders/_h/vhfb2h1n6v35yb9bys91j37m0000gn/T/ipykernel_43474/178202677.py:19: SettingWithCopyWarning: \n",
      "A value is trying to be set on a copy of a slice from a DataFrame.\n",
      "Try using .loc[row_indexer,col_indexer] = value instead\n",
      "\n",
      "See the caveats in the documentation: https://pandas.pydata.org/pandas-docs/stable/user_guide/indexing.html#returning-a-view-versus-a-copy\n",
      "  df[\"Fighter_1_STR\"] = df[\"Fighter_1_STR\"].fillna(0.0)\n",
      "/var/folders/_h/vhfb2h1n6v35yb9bys91j37m0000gn/T/ipykernel_43474/178202677.py:20: SettingWithCopyWarning: \n",
      "A value is trying to be set on a copy of a slice from a DataFrame.\n",
      "Try using .loc[row_indexer,col_indexer] = value instead\n",
      "\n",
      "See the caveats in the documentation: https://pandas.pydata.org/pandas-docs/stable/user_guide/indexing.html#returning-a-view-versus-a-copy\n",
      "  df[\"Fighter_2_STR\"] = df[\"Fighter_2_STR\"].fillna(0.0)\n",
      "/var/folders/_h/vhfb2h1n6v35yb9bys91j37m0000gn/T/ipykernel_43474/178202677.py:21: SettingWithCopyWarning: \n",
      "A value is trying to be set on a copy of a slice from a DataFrame.\n",
      "Try using .loc[row_indexer,col_indexer] = value instead\n",
      "\n",
      "See the caveats in the documentation: https://pandas.pydata.org/pandas-docs/stable/user_guide/indexing.html#returning-a-view-versus-a-copy\n",
      "  df[\"Fighter_1_TD\"] = df['Fighter_1_TD'].fillna(0.0)\n",
      "/var/folders/_h/vhfb2h1n6v35yb9bys91j37m0000gn/T/ipykernel_43474/178202677.py:22: SettingWithCopyWarning: \n",
      "A value is trying to be set on a copy of a slice from a DataFrame.\n",
      "Try using .loc[row_indexer,col_indexer] = value instead\n",
      "\n",
      "See the caveats in the documentation: https://pandas.pydata.org/pandas-docs/stable/user_guide/indexing.html#returning-a-view-versus-a-copy\n",
      "  df[\"Fighter_2_TD\"] = df[\"Fighter_2_TD\"].fillna(0.0)\n"
     ]
    }
   ],
   "source": [
    "#Lets delete Fighter_1_SUB and Fighter 2 sub, these aren't as interesting as sig strikes or takedowns. I think every other column is pretty relevant\n",
    "df = df[['Location', 'Fighter 1', 'Fighter 2', 'Fighter_1_KD', 'Fighter_2_KD',\n",
    "       'Fighter_1_STR', 'Fighter_2_STR', 'Fighter_1_TD', 'Fighter_2_TD', \n",
    "        'Weight_Class', 'Method', 'Round', 'Time', 'Event Name', 'Date', 'Winner']]\n",
    "\n",
    "#Lets also see if any of the columns are formatted differently when they want to say the same thing. I will only do the most important columns that have relevance \n",
    "df[\"Location\"].value_counts()\n",
    "df[\"Method\"].value_counts()\n",
    "df[\"Event Name\"].value_counts()\n",
    "df[\"Fighter 1\"].value_counts()\n",
    "df[\"Fighter 2\"].value_counts()\n",
    "\n",
    "#I'll also check for null values, looks like we only have at most 4 null values in a column so we do not need to delete the whole column. \n",
    "df.isna().sum()\n",
    "\n",
    "#The Null Values in Fighter Takedowns, Knockdowns, and Significant Strikes might just mean they had zero strikes during that round. These would be significant and we shouldn't delete these, so I'll turn them into zeros. \n",
    "df[\"Fighter_1_KD\"] = df[\"Fighter_1_KD\"].fillna(0.0)\n",
    "df[\"Fighter_2_KD\"] = df[\"Fighter_2_KD\"].fillna(0.0)\n",
    "df[\"Fighter_1_STR\"] = df[\"Fighter_1_STR\"].fillna(0.0)\n",
    "df[\"Fighter_2_STR\"] = df[\"Fighter_2_STR\"].fillna(0.0)\n",
    "df[\"Fighter_1_TD\"] = df['Fighter_1_TD'].fillna(0.0)\n",
    "df[\"Fighter_2_TD\"] = df[\"Fighter_2_TD\"].fillna(0.0)\n",
    "\n",
    "df.isna().sum()\n",
    "\n",
    "#I also want to drop the fights where the other fighter was null. I am pretty sure this is due to one of the fighters not making weight. \n",
    "df = df.dropna(subset = [\"Fighter 1\"])\n",
    "df = df.dropna(subset = [\"Fighter 2\"])"
   ]
  },
  {
   "cell_type": "markdown",
   "metadata": {},
   "source": [
    "## Exploratory Data Analysis"
   ]
  },
  {
   "cell_type": "markdown",
   "metadata": {},
   "source": [
    "For a graph, I would want to take a look at the distribution of how most fights ended. "
   ]
  },
  {
   "cell_type": "code",
   "execution_count": 5,
   "metadata": {},
   "outputs": [
    {
     "data": {
      "text/plain": [
       "True"
      ]
     },
     "execution_count": 5,
     "metadata": {},
     "output_type": "execute_result"
    }
   ],
   "source": [
    "\"k\" in \"ok\""
   ]
  },
  {
   "cell_type": "code",
   "execution_count": 22,
   "metadata": {},
   "outputs": [
    {
     "data": {
      "text/plain": [
       "<Axes: xlabel='Method', ylabel='Count'>"
      ]
     },
     "execution_count": 22,
     "metadata": {},
     "output_type": "execute_result"
    },
    {
     "data": {
      "image/png": "[encoded data removed]",
      "text/plain": [
       "<Figure size 640x480 with 1 Axes>"
      ]
     },
     "metadata": {},
     "output_type": "display_data"
    }
   ],
   "source": [
    "df[\"Method\"].value_counts()\n",
    "\n",
    "#Because there are so many different types of submissions, I want to filter them down to a few. \n",
    "\n",
    "\n",
    "#Organize my words to group them together\n",
    "def organize_tko_ko(word):\n",
    "    if \"KO/TKO\" in word:\n",
    "        return \"KO/TKO\"\n",
    "    else:\n",
    "        return word\n",
    "    \n",
    "def organize_sub(word):\n",
    "    if \"SUB\" in word:\n",
    "        return \"Submission\"\n",
    "    else:\n",
    "        return word\n",
    "    \n",
    "def organize_overturned(word):\n",
    "    if \"Overturned\" in word:\n",
    "        return \"Overturned\"\n",
    "    else:\n",
    "        return word\n",
    "    \n",
    "def organize_overturned(word):\n",
    "    if \"Overturned\" in word:\n",
    "        return \"Overturned\"\n",
    "    else:\n",
    "        return word\n",
    "\n",
    "def organize_DQ(word):\n",
    "    if \"DQ\" in word:\n",
    "        return \"DQ\"\n",
    "    else:\n",
    "        return word\n",
    "    \n",
    "def organize_dec(word):\n",
    "    if \"DEC\" in word:\n",
    "        return \"DEC\"\n",
    "    else:\n",
    "        return word\n",
    "    \n",
    "def organize_other(word):\n",
    "    if \"Other\" in word:\n",
    "        return \"DEC\"\n",
    "    else:\n",
    "        return word\n",
    "\n",
    "#Apply the methods to method   \n",
    "df[\"Method\"] = df[\"Method\"].map(organize_tko_ko)\n",
    "df[\"Method\"] = df[\"Method\"].map(organize_sub)\n",
    "df[\"Method\"] = df[\"Method\"].map(organize_overturned)\n",
    "df[\"Method\"] = df[\"Method\"].map(organize_DQ)\n",
    "df[\"Method\"] = df[\"Method\"].map(organize_dec)\n",
    "df[\"Method\"] = df[\"Method\"].map(organize_other)\n",
    "df[\"Method\"].value_counts()\n",
    "df.sort_values('Method', ascending=True)\n",
    "\n",
    "#Lets Draw Our Boxplot\n",
    "sns.set_context(font_scale=0.3)\n",
    "sns.histplot(data=df, x=\"Method\")\n"
   ]
  }
 ],
 "metadata": {
  "kernelspec": {
   "display_name": ".venv",
   "language": "python",
   "name": "python3"
  },
  "language_info": {
   "codemirror_mode": {
    "name": "ipython",
    "version": 3
   },
   "file_extension": ".py",
   "mimetype": "text/x-python",
   "name": "python",
   "nbconvert_exporter": "python",
   "pygments_lexer": "ipython3",
   "version": "3.10.4"
  },
  "orig_nbformat": 4
 },
 "nbformat": 4,
 "nbformat_minor": 2
}
